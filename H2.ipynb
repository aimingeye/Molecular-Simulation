{
 "cells": [
  {
   "cell_type": "code",
   "execution_count": 1,
   "id": "8a8b2505-377b-449f-8b37-f551a6a025ba",
   "metadata": {},
   "outputs": [
    {
     "name": "stderr",
     "output_type": "stream",
     "text": [
      "<frozen importlib._bootstrap>:219: RuntimeWarning: scipy._lib.messagestream.MessageStream size changed, may indicate binary incompatibility. Expected 56 from C header, got 64 from PyObject\n"
     ]
    }
   ],
   "source": [
    "import numpy as np\n",
    "from qiskit import QuantumCircuit, transpile, Aer, IBMQ\n",
    "from qiskit.tools.jupyter import *\n",
    "from qiskit.visualization import *\n",
    "from ibm_quantum_widgets import *\n",
    "from qiskit.providers.aer import QasmSimulator\n",
    "import matplotlib as mpl"
   ]
  },
  {
   "cell_type": "code",
   "execution_count": 2,
   "id": "758818a9-23a2-4443-8eab-420f6ac07518",
   "metadata": {},
   "outputs": [
    {
     "name": "stderr",
     "output_type": "stream",
     "text": [
      "/tmp/ipykernel_394/1640696031.py:3: DeprecationWarning: The PySCFDriver class is deprecated as of version 0.2.0 and will be removed no sooner than 3 months after the release. Instead use the PySCFDriver class from qiskit_nature.drivers.second_quantization.pyscfd.\n",
      "  driver = PySCFDriver(atom=molecule)\n"
     ]
    }
   ],
   "source": [
    "from qiskit_nature.drivers import PySCFDriver\n",
    "molecule = \"H .0 .0 .0; H .0 .0 0.739\"\n",
    "driver = PySCFDriver(atom=molecule)\n",
    "qmolecule = driver.run()"
   ]
  },
  {
   "cell_type": "code",
   "execution_count": 3,
   "id": "d46cbf8b-c8f8-4d99-8ee0-bef0f2c7c25b",
   "metadata": {},
   "outputs": [],
   "source": [
    "from qiskit_nature.problems.second_quantization.electronic import ElectronicStructureProblem\n",
    "problem = ElectronicStructureProblem(driver)\n",
    "second_q_ops = problem.second_q_ops()\n",
    "main_op = second_q_ops[0]"
   ]
  },
  {
   "cell_type": "code",
   "execution_count": 4,
   "id": "2dd5c8bb-d357-492b-b87f-65dbc3e338be",
   "metadata": {},
   "outputs": [
    {
     "name": "stderr",
     "output_type": "stream",
     "text": [
      "/tmp/ipykernel_394/962686619.py:5: DeprecationWarning: The molecule_data_transformed property is deprecated as of version 0.2.0 and will be removed no sooner than 3 months after the release. Instead use the grouped_property_transformed property.\n",
      "  num_particles = (problem.molecule_data_transformed.num_alpha,\n"
     ]
    }
   ],
   "source": [
    "from qiskit_nature.mappers.second_quantization import ParityMapper, BravyiKitaevMapper, JordanWignerMapper\n",
    "from qiskit_nature.converters.second_quantization.qubit_converter import QubitConverter\n",
    "mapper = JordanWignerMapper()\n",
    "converter = QubitConverter(mapper=mapper, two_qubit_reduction=False)\n",
    "num_particles = (problem.molecule_data_transformed.num_alpha,\n",
    "             problem.molecule_data_transformed.num_beta)\n",
    "qubit_op = converter.convert(main_op, num_particles=num_particles)"
   ]
  },
  {
   "cell_type": "markdown",
   "id": "2e84e244-a8a4-4ea8-8cca-450f82998741",
   "metadata": {},
   "source": [
    "#### Initial State\n",
    "We will start by considering $\\psi = |0101\\rangle$ as the initial state."
   ]
  },
  {
   "cell_type": "code",
   "execution_count": 5,
   "id": "cd37d2b8-83aa-442b-864a-6af83ddda534",
   "metadata": {},
   "outputs": [],
   "source": [
    "from qiskit_nature.circuit.library import HartreeFock\n",
    "num_particles = (problem.molecule_data_transformed.num_alpha,\n",
    "             problem.molecule_data_transformed.num_beta)\n",
    "num_spin_orbitals = 2 * problem.molecule_data_transformed.num_molecular_orbitals\n",
    "init_state = HartreeFock(num_spin_orbitals, num_particles, converter)"
   ]
  },
  {
   "cell_type": "code",
   "execution_count": 6,
   "id": "2d2bf7e3-cf87-4242-8bec-9b94b1951059",
   "metadata": {},
   "outputs": [
    {
     "data": {
      "image/png": "[encoded data removed]",
      "text/plain": [
       "<Figure size 146.797x264.88 with 1 Axes>"
      ]
     },
     "execution_count": 6,
     "metadata": {},
     "output_type": "execute_result"
    }
   ],
   "source": [
    "init_state.draw('mpl')"
   ]
  },
  {
   "cell_type": "markdown",
   "id": "0da42dc4-fe1a-4944-acee-f0946fbdbc53",
   "metadata": {},
   "source": [
    "#### Ansatz\n",
    "We will use two-local ansatz as the default ansatz for this problem as it is readily available in the qiskit library and easy to compose."
   ]
  },
  {
   "cell_type": "code",
   "execution_count": 7,
   "id": "56013fdc-ec6e-48cb-b72a-2ce9fee4ef0e",
   "metadata": {},
   "outputs": [],
   "source": [
    "from qiskit.circuit.library import TwoLocal\n",
    "from qiskit_nature.circuit.library import UCCSD, PUCCD, SUCCD\n",
    "num_particles = (problem.molecule_data_transformed.num_alpha,\n",
    "             problem.molecule_data_transformed.num_beta)\n",
    "num_spin_orbitals = 2 * problem.molecule_data_transformed.num_molecular_orbitals\n",
    "from qiskit.circuit import Parameter, QuantumCircuit, QuantumRegister\n",
    "rotation_blocks = ['ry', 'rz']\n",
    "entanglement_blocks = 'cx' \n",
    "entanglement = 'full'\n",
    "repetitions = 3\n",
    "skip_final_rotation_layer = True\n",
    "ansatz = TwoLocal(qubit_op.num_qubits, rotation_blocks, entanglement_blocks, reps=repetitions, \n",
    "                  entanglement=entanglement, skip_final_rotation_layer=skip_final_rotation_layer)\n",
    "# adding the initial state\n",
    "ansatz.compose(init_state, front=True, inplace=True)"
   ]
  },
  {
   "cell_type": "code",
   "execution_count": 8,
   "id": "7568e72c-b4e3-4601-8849-d7b948632b02",
   "metadata": {},
   "outputs": [
    {
     "data": {
      "image/png": "[encoded data removed]",
      "text/plain": [
       "<Figure size 688.597x264.88 with 1 Axes>"
      ]
     },
     "execution_count": 8,
     "metadata": {},
     "output_type": "execute_result"
    }
   ],
   "source": [
    "ansatz.draw('mpl')"
   ]
  },
  {
   "cell_type": "code",
   "execution_count": 9,
   "id": "5487cbf0-7bfb-4ba5-8647-eac0c470245f",
   "metadata": {},
   "outputs": [],
   "source": [
    "from qiskit import Aer\n",
    "backend = Aer.get_backend('statevector_simulator')"
   ]
  },
  {
   "cell_type": "code",
   "execution_count": 10,
   "id": "30f817c4-7142-41b5-b876-2a41f31d733b",
   "metadata": {},
   "outputs": [],
   "source": [
    "from qiskit.algorithms.optimizers import COBYLA, L_BFGS_B, SPSA, SLSQP\n",
    "optimizer = COBYLA(maxiter=500)"
   ]
  },
  {
   "cell_type": "markdown",
   "id": "498e7d22-b86f-44e6-9515-717f2d15480e",
   "metadata": {},
   "source": [
    "#### Exact Energy\n",
    "Here I've shown some results for our chosen molecule, which are the exact values for different parameters of the molecule."
   ]
  },
  {
   "cell_type": "code",
   "execution_count": 11,
   "id": "84004d94-d87f-45ec-9e0b-bfbbfc1c050d",
   "metadata": {},
   "outputs": [
    {
     "name": "stdout",
     "output_type": "stream",
     "text": [
      "Exact electronic energy -1.8533636186720357\n",
      "=== GROUND STATE ENERGY ===\n",
      " \n",
      "* Electronic ground state energy (Hartree): -1.853363618672\n",
      "  - computed part:      -1.853363618672\n",
      "~ Nuclear repulsion energy (Hartree): 0.716072003951\n",
      "> Total ground state energy (Hartree): -1.137291614721\n",
      " \n",
      "=== MEASURED OBSERVABLES ===\n",
      " \n",
      "  0:  # Particles: 2.000 S: 0.000 S^2: 0.000 M: 0.000\n",
      " \n",
      "=== DIPOLE MOMENTS ===\n",
      " \n",
      "~ Nuclear dipole moment (a.u.): [0.0  0.0  1.39650761]\n",
      " \n",
      "  0: \n",
      "  * Electronic dipole moment (a.u.): [0.0  0.0  1.39650761]\n",
      "    - computed part:      [0.0  0.0  1.39650761]\n",
      "  > Dipole moment (a.u.): [0.0  0.0  0.0]  Total: 0.0\n",
      "                 (debye): [0.0  0.0  0.00000001]  Total: 0.00000001\n",
      " \n"
     ]
    }
   ],
   "source": [
    "from qiskit_nature.algorithms.ground_state_solvers.minimum_eigensolver_factories import NumPyMinimumEigensolverFactory\n",
    "from qiskit_nature.algorithms.ground_state_solvers import GroundStateEigensolver\n",
    "\n",
    "def exact_diagonalizer(problem, converter):\n",
    "    solver = NumPyMinimumEigensolverFactory()\n",
    "    calc = GroundStateEigensolver(converter, solver)\n",
    "    result = calc.solve(problem)\n",
    "    return result\n",
    "\n",
    "result_exact = exact_diagonalizer(problem, converter)\n",
    "exact_energy = np.real(result_exact.eigenenergies[0])\n",
    "print(\"Exact electronic energy\", exact_energy)\n",
    "print(result_exact)"
   ]
  },
  {
   "cell_type": "markdown",
   "id": "139c95b6-7518-441d-83c6-85ca5109cb36",
   "metadata": {},
   "source": [
    "#### Calculating Energy for $H_2$ using VQE and finding errors in our calculation."
   ]
  },
  {
   "cell_type": "code",
   "execution_count": 12,
   "id": "640a9e0e-c470-4a2c-82e7-e1a09db77f03",
   "metadata": {},
   "outputs": [
    {
     "name": "stdout",
     "output_type": "stream",
     "text": [
      "{   'aux_operator_eigenvalues': None,\n",
      "    'cost_function_evals': 500,\n",
      "    'eigenstate': array([-8.01967738e-06+5.35021714e-05j,  6.78005082e-06+9.49056742e-05j,\n",
      "        8.56961045e-06-1.44705532e-05j,  7.77754647e-05-4.74281620e-05j,\n",
      "        1.57195558e-06-3.49200780e-07j,  9.48583307e-01+2.95900636e-01j,\n",
      "        1.04027944e-03-1.80342805e-03j,  7.63572001e-08-1.42746754e-07j,\n",
      "        1.86016557e-09+4.59114937e-08j, -9.39806181e-04+1.22919986e-03j,\n",
      "       -1.07258614e-01-3.34862821e-02j, -1.36549702e-05-4.21335684e-06j,\n",
      "       -8.40583917e-06+5.30799761e-06j, -7.70667653e-05+1.24317568e-04j,\n",
      "       -9.80019416e-06-3.76518704e-06j, -1.00450272e-04-2.76953620e-05j]),\n",
      "    'eigenvalue': (-1.85335941174982+0j),\n",
      "    'optimal_parameters': {   ParameterVectorElement(θ[18]): 0.026260747676010623,\n",
      "                              ParameterVectorElement(θ[17]): 3.1414137352538263,\n",
      "                              ParameterVectorElement(θ[16]): 0.003925607256799522,\n",
      "                              ParameterVectorElement(θ[15]): 0.16827786844713383,\n",
      "                              ParameterVectorElement(θ[14]): -0.3511158485296716,\n",
      "                              ParameterVectorElement(θ[13]): -0.2591436715750023,\n",
      "                              ParameterVectorElement(θ[12]): 1.0719645711475825,\n",
      "                              ParameterVectorElement(θ[11]): 0.01684157310432731,\n",
      "                              ParameterVectorElement(θ[10]): -0.0006395852100755067,\n",
      "                              ParameterVectorElement(θ[9]): -0.00020015939270742514,\n",
      "                              ParameterVectorElement(θ[8]): -8.66125440230164e-05,\n",
      "                              ParameterVectorElement(θ[7]): 0.1154245162347783,\n",
      "                              ParameterVectorElement(θ[6]): 0.29069417955200433,\n",
      "                              ParameterVectorElement(θ[5]): -0.06520651820449927,\n",
      "                              ParameterVectorElement(θ[4]): -0.06608680310943157,\n",
      "                              ParameterVectorElement(θ[3]): 0.047721895731622874,\n",
      "                              ParameterVectorElement(θ[2]): 0.025456784238420814,\n",
      "                              ParameterVectorElement(θ[1]): 2.8773182068247005e-05,\n",
      "                              ParameterVectorElement(θ[19]): -0.0310403035987273,\n",
      "                              ParameterVectorElement(θ[20]): -0.18680534907828777,\n",
      "                              ParameterVectorElement(θ[0]): 0.22528230755418927,\n",
      "                              ParameterVectorElement(θ[21]): 0.8545808908288351,\n",
      "                              ParameterVectorElement(θ[23]): 0.3073020843708068,\n",
      "                              ParameterVectorElement(θ[22]): 0.5601039278118176},\n",
      "    'optimal_point': array([ 2.25282308e-01,  2.87731821e-05,  2.54567842e-02,  4.77218957e-02,\n",
      "       -6.60868031e-02, -6.52065182e-02,  2.90694180e-01,  1.15424516e-01,\n",
      "       -8.66125440e-05, -2.00159393e-04, -6.39585210e-04,  1.68415731e-02,\n",
      "        1.07196457e+00, -2.59143672e-01, -3.51115849e-01,  1.68277868e-01,\n",
      "        3.92560726e-03,  3.14141374e+00,  2.62607477e-02, -3.10403036e-02,\n",
      "       -1.86805349e-01,  8.54580891e-01,  5.60103928e-01,  3.07302084e-01]),\n",
      "    'optimal_value': -1.85335941174982,\n",
      "    'optimizer_evals': None,\n",
      "    'optimizer_time': 5.3542704582214355}\n"
     ]
    }
   ],
   "source": [
    "from qiskit.algorithms import VQE\n",
    "from IPython.display import display, clear_output\n",
    "\n",
    "def callback(eval_count, parameters, mean, std): \n",
    "    display(\"Evaluation: {}, Energy: {}, Std: {}\".format(eval_count, mean, std))\n",
    "    clear_output(wait=True)\n",
    "    counts.append(eval_count)\n",
    "    values.append(mean)\n",
    "    params.append(parameters)\n",
    "    deviation.append(std)\n",
    "\n",
    "counts = []\n",
    "values = []\n",
    "params = []\n",
    "deviation = []\n",
    "try:\n",
    "    initial_point = [0.01] * len(ansatz.ordered_parameters)\n",
    "except:\n",
    "    initial_point = [0.01] * ansatz.num_parameters\n",
    "\n",
    "algorithm = VQE(ansatz,\n",
    "                optimizer=optimizer,\n",
    "                quantum_instance=backend,\n",
    "                callback=callback,\n",
    "                initial_point=initial_point)\n",
    "\n",
    "result = algorithm.compute_minimum_eigenvalue(qubit_op)\n",
    "\n",
    "print(result)"
   ]
  },
  {
   "cell_type": "code",
   "execution_count": 13,
   "id": "e82af2cf-54a2-49dd-81f2-8772d1f5dee3",
   "metadata": {},
   "outputs": [
    {
     "name": "stdout",
     "output_type": "stream",
     "text": [
      "The percentage error in our calculation is -0.00022698849666174086 %\n"
     ]
    }
   ],
   "source": [
    "#calculating percentage error\n",
    "E_th = -1.8533636186720357\n",
    "E_vqe = -1.85335941174982\n",
    "\n",
    "print(\"The percentage error in our calculation is \" + str(np.abs(E_th-E_vqe)/E_th *100)+\" %\")"
   ]
  }
 ],
 "metadata": {
  "kernelspec": {
   "display_name": "Qiskit v0.35.0 (ipykernel)",
   "language": "python",
   "name": "python3"
  },
  "language_info": {
   "codemirror_mode": {
    "name": "ipython",
    "version": 3
   },
   "file_extension": ".py",
   "mimetype": "text/x-python",
   "name": "python",
   "nbconvert_exporter": "python",
   "pygments_lexer": "ipython3",
   "version": "3.8.13"
  },
  "widgets": {
   "application/vnd.jupyter.widget-state+json": {
    "state": {
     "0a60c6e6000146bea0c192fb17c43dcc": {
      "model_module": "@jupyter-widgets/controls",
      "model_module_version": "1.5.0",
      "model_name": "HTMLModel",
      "state": {
       "layout": "IPY_MODEL_ebfe822662284911ac811541d486510a",
       "style": "IPY_MODEL_4310a4b7bef64c638a3fc998c0d114a1",
       "value": "<h5>Message</h5>"
      }
     },
     "1640a0a0376b47e2a8c3cc99663a8fed": {
      "model_module": "@jupyter-widgets/controls",
      "model_module_version": "1.5.0",
      "model_name": "DescriptionStyleModel",
      "state": {
       "description_width": ""
      }
     },
     "28f94235bf4645f59da3f39ec633e438": {
      "model_module": "@jupyter-widgets/controls",
      "model_module_version": "1.5.0",
      "model_name": "DescriptionStyleModel",
      "state": {
       "description_width": ""
      }
     },
     "3460312f35284559831a0101e60fa232": {
      "model_module": "@jupyter-widgets/controls",
      "model_module_version": "1.5.0",
      "model_name": "HTMLModel",
      "state": {
       "layout": "IPY_MODEL_bb465d780d614733852e9a8baaae2a6c",
       "style": "IPY_MODEL_1640a0a0376b47e2a8c3cc99663a8fed",
       "value": "<p style='font-family: IBM Plex Sans, Arial, Helvetica, sans-serif; font-size: 20px; font-weight: medium;'>Circuit Properties</p>"
      }
     },
     "3882fd71da4448eeb4c9c904cbddcd66": {
      "model_module": "@jupyter-widgets/controls",
      "model_module_version": "1.5.0",
      "model_name": "HBoxModel",
      "state": {
       "children": [
        "IPY_MODEL_5640d5e1cfdb463c9b32bb6552c7ee0c",
        "IPY_MODEL_d9b68696e5014c6e8cd5a7bc2fafb727",
        "IPY_MODEL_bdd8341725274e5a8fbc6ecc308f6dac",
        "IPY_MODEL_bd203272fd2a4a7c9e30e3f66f5aeec7",
        "IPY_MODEL_0a60c6e6000146bea0c192fb17c43dcc"
       ],
       "layout": "IPY_MODEL_cd3bad0cbddd4a7b8076d9025879ce84"
      }
     },
     "4310a4b7bef64c638a3fc998c0d114a1": {
      "model_module": "@jupyter-widgets/controls",
      "model_module_version": "1.5.0",
      "model_name": "DescriptionStyleModel",
      "state": {
       "description_width": ""
      }
     },
     "5640d5e1cfdb463c9b32bb6552c7ee0c": {
      "model_module": "@jupyter-widgets/controls",
      "model_module_version": "1.5.0",
      "model_name": "HTMLModel",
      "state": {
       "layout": "IPY_MODEL_cd2a4622c0444bc889f18a0c33b06da7",
       "style": "IPY_MODEL_bc29744fd59b4d3ca0ee9ce8da7a3381",
       "value": "<h5>Job ID</h5>"
      }
     },
     "5fe8e318424c4dc1ba7c18a8cef73ba1": {
      "model_module": "@jupyter-widgets/base",
      "model_module_version": "1.2.0",
      "model_name": "LayoutModel",
      "state": {
       "grid_template_areas": "\n                                       \". . . . right \"\n                                        ",
       "grid_template_columns": "20% 20% 20% 20% 20%",
       "width": "100%"
      }
     },
     "68ea6b8451024ca493c1fd83757e5137": {
      "model_module": "@jupyter-widgets/base",
      "model_module_version": "1.2.0",
      "model_name": "LayoutModel",
      "state": {
       "width": "145px"
      }
     },
     "6f4d1aadb0fc46a0b9c88535ae9cc480": {
      "model_module": "@jupyter-widgets/controls",
      "model_module_version": "1.5.0",
      "model_name": "DescriptionStyleModel",
      "state": {
       "description_width": ""
      }
     },
     "6fb803f94d924f6ba52d8878ed3255b1": {
      "model_module": "@jupyter-widgets/controls",
      "model_module_version": "1.5.0",
      "model_name": "DescriptionStyleModel",
      "state": {
       "description_width": ""
      }
     },
     "821b918f1b404cbb8bfc856e3bdc277e": {
      "model_module": "@jupyter-widgets/controls",
      "model_module_version": "1.5.0",
      "model_name": "ButtonStyleModel",
      "state": {}
     },
     "bb465d780d614733852e9a8baaae2a6c": {
      "model_module": "@jupyter-widgets/base",
      "model_module_version": "1.2.0",
      "model_name": "LayoutModel",
      "state": {
       "margin": "0px 0px 10px 0px"
      }
     },
     "bc29744fd59b4d3ca0ee9ce8da7a3381": {
      "model_module": "@jupyter-widgets/controls",
      "model_module_version": "1.5.0",
      "model_name": "DescriptionStyleModel",
      "state": {
       "description_width": ""
      }
     },
     "bd203272fd2a4a7c9e30e3f66f5aeec7": {
      "model_module": "@jupyter-widgets/controls",
      "model_module_version": "1.5.0",
      "model_name": "HTMLModel",
      "state": {
       "layout": "IPY_MODEL_d3ac4d99f2e64a0e846583435e4c4937",
       "style": "IPY_MODEL_28f94235bf4645f59da3f39ec633e438",
       "value": "<h5>Queue</h5>"
      }
     },
     "bdd8341725274e5a8fbc6ecc308f6dac": {
      "model_module": "@jupyter-widgets/controls",
      "model_module_version": "1.5.0",
      "model_name": "HTMLModel",
      "state": {
       "layout": "IPY_MODEL_c3c6b630e52d422ba80d6ff10df00e9a",
       "style": "IPY_MODEL_6fb803f94d924f6ba52d8878ed3255b1",
       "value": "<h5>Status</h5>"
      }
     },
     "c3c6b630e52d422ba80d6ff10df00e9a": {
      "model_module": "@jupyter-widgets/base",
      "model_module_version": "1.2.0",
      "model_name": "LayoutModel",
      "state": {
       "width": "95px"
      }
     },
     "c591b0ed38df4ce1b9ddc39021e2f914": {
      "model_module": "@jupyter-widgets/base",
      "model_module_version": "1.2.0",
      "model_name": "LayoutModel",
      "state": {
       "grid_area": "right",
       "padding": "0px 0px 0px 0px",
       "width": "70px"
      }
     },
     "cd2a4622c0444bc889f18a0c33b06da7": {
      "model_module": "@jupyter-widgets/base",
      "model_module_version": "1.2.0",
      "model_name": "LayoutModel",
      "state": {
       "width": "190px"
      }
     },
     "cd3bad0cbddd4a7b8076d9025879ce84": {
      "model_module": "@jupyter-widgets/base",
      "model_module_version": "1.2.0",
      "model_name": "LayoutModel",
      "state": {
       "margin": "0px 0px 0px 37px",
       "width": "600px"
      }
     },
     "d3ac4d99f2e64a0e846583435e4c4937": {
      "model_module": "@jupyter-widgets/base",
      "model_module_version": "1.2.0",
      "model_name": "LayoutModel",
      "state": {
       "width": "70px"
      }
     },
     "d9b68696e5014c6e8cd5a7bc2fafb727": {
      "model_module": "@jupyter-widgets/controls",
      "model_module_version": "1.5.0",
      "model_name": "HTMLModel",
      "state": {
       "layout": "IPY_MODEL_68ea6b8451024ca493c1fd83757e5137",
       "style": "IPY_MODEL_6f4d1aadb0fc46a0b9c88535ae9cc480",
       "value": "<h5>Backend</h5>"
      }
     },
     "deaf1426a9a8434bae0cf8849f996400": {
      "model_module": "@jupyter-widgets/controls",
      "model_module_version": "1.5.0",
      "model_name": "ButtonModel",
      "state": {
       "button_style": "primary",
       "description": "Clear",
       "layout": "IPY_MODEL_c591b0ed38df4ce1b9ddc39021e2f914",
       "style": "IPY_MODEL_821b918f1b404cbb8bfc856e3bdc277e"
      }
     },
     "e8280a9f99d3451aaf017b1cbcd218fe": {
      "model_module": "@jupyter-widgets/controls",
      "model_module_version": "1.5.0",
      "model_name": "GridBoxModel",
      "state": {
       "children": [
        "IPY_MODEL_deaf1426a9a8434bae0cf8849f996400"
       ],
       "layout": "IPY_MODEL_5fe8e318424c4dc1ba7c18a8cef73ba1"
      }
     },
     "ebfe822662284911ac811541d486510a": {
      "model_module": "@jupyter-widgets/base",
      "model_module_version": "1.2.0",
      "model_name": "LayoutModel",
      "state": {}
     }
    },
    "version_major": 2,
    "version_minor": 0
   }
  }
 },
 "nbformat": 4,
 "nbformat_minor": 5
}
