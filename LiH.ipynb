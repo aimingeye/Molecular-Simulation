{
 "cells": [
  {
   "cell_type": "code",
   "execution_count": 1,
   "id": "b98b53d3-97e1-4bcb-9394-e2b1d1e8789b",
   "metadata": {},
   "outputs": [
    {
     "name": "stderr",
     "output_type": "stream",
     "text": [
      "<frozen importlib._bootstrap>:219: RuntimeWarning: scipy._lib.messagestream.MessageStream size changed, may indicate binary incompatibility. Expected 56 from C header, got 64 from PyObject\n"
     ]
    }
   ],
   "source": [
    "import numpy as np\n",
    "#standard Qiskit libraries\n",
    "from qiskit import QuantumCircuit, transpile, Aer, IBMQ\n",
    "from qiskit.tools.jupyter import *\n",
    "from qiskit.visualization import *\n",
    "from ibm_quantum_widgets import *\n",
    "from qiskit.providers.aer import QasmSimulator"
   ]
  },
  {
   "cell_type": "code",
   "execution_count": 2,
   "id": "5e7fe441-0d32-43e6-b73f-93c416e932d3",
   "metadata": {},
   "outputs": [],
   "source": [
    "from qiskit_nature.drivers.second_quantization import PySCFDriver\n",
    "from qiskit_nature.transformers.second_quantization.electronic import FreezeCoreTransformer\n",
    "molecule = 'Li 0.0 0.0 0.0; H 0.0 0.0 1.5474'\n",
    "driver = PySCFDriver(atom=molecule)\n",
    "qmolecule = driver.run()"
   ]
  },
  {
   "cell_type": "code",
   "execution_count": 3,
   "id": "6e64b951-2f34-4bd1-905e-f2649f33d97d",
   "metadata": {},
   "outputs": [],
   "source": [
    "fct = [FreezeCoreTransformer(freeze_core=True, remove_orbitals=[3,4])]"
   ]
  },
  {
   "cell_type": "code",
   "execution_count": null,
   "id": "f48bf21a-9f9a-4274-b987-ede6d7aa4f0a",
   "metadata": {},
   "outputs": [],
   "source": [
    "from qiskit_nature.problems.second_quantization.electronic import ElectronicStructureProblem\n",
    "problem = ElectronicStructureProblem(driver, fct)\n",
    "second_q_ops = problem.second_q_ops()\n",
    "\n",
    "# Hamiltonian\n",
    "main_op = second_q_ops[0]\n",
    "from qiskit_nature.mappers.second_quantization import ParityMapper\n",
    "from qiskit_nature.converters.second_quantization.qubit_converter import QubitConverter\n",
    "\n",
    "converter = QubitConverter(mapper=ParityMapper(), two_qubit_reduction=True)\n",
    "\n",
    "# Mapping Fermions to Qubits\n",
    "#num_particles = (problem.molecule_data_transformed.num_alpha,\n",
    "             #problem.molecule_data_transformed.num_beta)\n",
    "num_particles = problem.num_particles\n",
    "qubit_op = converter.convert(main_op, num_particles = problem.num_particles)\n",
    "from qiskit_nature.circuit.library import HartreeFock\n",
    "\n",
    "\n",
    "num_spin_orbitals = problem.num_spin_orbitals\n",
    "init_state = HartreeFock(num_spin_orbitals, num_particles, converter)"
   ]
  },
  {
   "cell_type": "code",
   "execution_count": null,
   "id": "bc983ce8-b6fa-45db-a18c-7467e8d01157",
   "metadata": {},
   "outputs": [],
   "source": [
    "init_state.draw('mpl')"
   ]
  },
  {
   "cell_type": "code",
   "execution_count": null,
   "id": "f6df22cd-dd8e-4f36-88e0-a4b67a26245c",
   "metadata": {},
   "outputs": [],
   "source": [
    "from qiskit.circuit.library import TwoLocal\n",
    "from qiskit_nature.circuit.library import UCCSD, PUCCD, SUCCD\n",
    "\n",
    "# Parameters for q-UCC antatze\n",
    "num_particles = problem.num_particles\n",
    "num_spin_orbitals = problem.num_spin_orbitals\n",
    "n = qubit_op.num_qubits\n",
    "qc = QuantumCircuit(qubit_op.num_qubits)\n",
    "from qiskit.circuit import Parameter, QuantumCircuit, QuantumRegister\n",
    "#the variational parameter\n",
    "p=1\n",
    "for i in range(n):\n",
    "    theta = Parameter(f\"ry_theta{p}\" )\n",
    "    qc.ry(theta, i)\n",
    "    p += 1\n",
    "qubit_label = 0\n",
    "qc.ry(theta, range(n))\n",
    "#qc.rz(theta, range(n))\n",
    "for i in range(n-1):\n",
    "    qc.cx(i, i+1)\n",
    "for i in range(n):\n",
    "    theta = Parameter(f\"ry_theta{p}\" )\n",
    "    qc.ry(theta, i)\n",
    "    p += 1\n",
    "#qc.rz(theta, range(n))\n",
    "\n",
    "# Add the initial state\n",
    "ansatz = qc\n",
    "ansatz.compose(init_state, front=True, inplace=True)"
   ]
  },
  {
   "cell_type": "code",
   "execution_count": null,
   "id": "27f3d3c9-ba55-4d5f-909d-1341c1f78831",
   "metadata": {},
   "outputs": [],
   "source": [
    "ansatz.draw('mpl')"
   ]
  },
  {
   "cell_type": "code",
   "execution_count": null,
   "id": "aee9a2ef-37b8-4517-9d97-7c4b67e676d5",
   "metadata": {},
   "outputs": [],
   "source": [
    "from qiskit_nature.algorithms.ground_state_solvers.minimum_eigensolver_factories import NumPyMinimumEigensolverFactory\n",
    "from qiskit_nature.algorithms.ground_state_solvers import GroundStateEigensolver\n",
    "import numpy as np \n",
    "\n",
    "def exact_diagonalizer(problem, converter):\n",
    "    solver = NumPyMinimumEigensolverFactory()\n",
    "    calc = GroundStateEigensolver(converter, solver)\n",
    "    result = calc.solve(problem)\n",
    "    return result\n",
    "\n",
    "result_exact = exact_diagonalizer(problem, converter)\n",
    "exact_energy = np.real(result_exact.eigenenergies[0])\n",
    "print(\"Exact electronic energy\", exact_energy)\n",
    "print(result_exact)"
   ]
  },
  {
   "cell_type": "code",
   "execution_count": null,
   "id": "df0e216e-4fcc-4fbc-8b00-b7d234c1a2a1",
   "metadata": {},
   "outputs": [],
   "source": [
    "from qiskit import Aer\n",
    "backend = Aer.get_backend('statevector_simulator')\n",
    "from qiskit.algorithms.optimizers import COBYLA, L_BFGS_B, SPSA, SLSQP\n",
    "optimizer = COBYLA(maxiter=15000)\n",
    "from qiskit.algorithms import VQE\n",
    "from IPython.display import display, clear_output\n",
    "def callback(eval_count, parameters, mean, std):  \n",
    "    display(\"Evaluation: {}, Energy: {}, Std: {}\".format(eval_count, mean, std))\n",
    "    clear_output(wait=True)\n",
    "    counts.append(eval_count)\n",
    "    values.append(mean)\n",
    "    params.append(parameters)\n",
    "    deviation.append(std)\n",
    "\n",
    "counts = []\n",
    "values = []\n",
    "params = []\n",
    "deviation = []\n",
    "try:\n",
    "    initial_point = [0.01] * len(ansatz.ordered_parameters)\n",
    "except:\n",
    "    initial_point = [0.01] * ansatz.num_parameters\n",
    "\n",
    "algorithm = VQE(ansatz,\n",
    "                optimizer=optimizer,\n",
    "                quantum_instance=backend,\n",
    "                callback=callback,\n",
    "                initial_point=initial_point)\n",
    "\n",
    "result = algorithm.compute_minimum_eigenvalue(qubit_op)\n",
    "\n",
    "print(result)"
   ]
  },
  {
   "cell_type": "markdown",
   "id": "2ba77c5f-8398-46f7-941e-b7e5c28f7abc",
   "metadata": {},
   "source": [
    "#### Calculating Error in Results"
   ]
  },
  {
   "cell_type": "code",
   "execution_count": null,
   "id": "21f179ae-9dcb-469e-ac60-15d585a6f7fd",
   "metadata": {},
   "outputs": [],
   "source": [
    "E_th = -1.0887060157347446\n",
    "E_vqe = -1.0703581417404309"
   ]
  },
  {
   "cell_type": "code",
   "execution_count": null,
   "id": "6d01973d-5a48-4bc9-9f96-78bde68e6a66",
   "metadata": {},
   "outputs": [],
   "source": [
    "print(\"The percentage error in our calculation is \" + str(np.abs((E_th-E_vqe)/E_th) *100)+\" %\")"
   ]
  }
 ],
 "metadata": {
  "kernelspec": {
   "display_name": "Python 3 (ipykernel)",
   "language": "python",
   "name": "python3"
  },
  "language_info": {
   "codemirror_mode": {
    "name": "ipython",
    "version": 3
   },
   "file_extension": ".py",
   "mimetype": "text/x-python",
   "name": "python",
   "nbconvert_exporter": "python",
   "pygments_lexer": "ipython3",
   "version": "3.8.13"
  },
  "widgets": {
   "application/vnd.jupyter.widget-state+json": {
    "state": {
     "2f84d8111f2843f7bd4aa1a9e8e6ca62": {
      "model_module": "@jupyter-widgets/controls",
      "model_module_version": "1.5.0",
      "model_name": "HBoxModel",
      "state": {
       "children": [
        "IPY_MODEL_f45597e7937a478f96a0c5a7d762ad87",
        "IPY_MODEL_9ef2c893c90f404f8e1e40e6ef3f5e36",
        "IPY_MODEL_acd1bd1df01b442c860c8344fbaf569a",
        "IPY_MODEL_5bf2fa80e1494d1e9680f91de8c3b97b",
        "IPY_MODEL_496cbb040afb458493a943ad91611a98"
       ],
       "layout": "IPY_MODEL_cac7b8d0e25f4a3681d5f4e4722a64a6"
      }
     },
     "31d8cad5aaae408d8b87d0d45a50c388": {
      "model_module": "@jupyter-widgets/controls",
      "model_module_version": "1.5.0",
      "model_name": "DescriptionStyleModel",
      "state": {
       "description_width": ""
      }
     },
     "34583fc3be2a4215970321c0981c06c7": {
      "model_module": "@jupyter-widgets/controls",
      "model_module_version": "1.5.0",
      "model_name": "HTMLModel",
      "state": {
       "layout": "IPY_MODEL_aceb15217d5e465ab225c21057cad3c6",
       "style": "IPY_MODEL_9633797c704d44d4b9f9b19616aa6b47",
       "value": "<p style='font-family: IBM Plex Sans, Arial, Helvetica, sans-serif; font-size: 20px; font-weight: medium;'>Circuit Properties</p>"
      }
     },
     "496cbb040afb458493a943ad91611a98": {
      "model_module": "@jupyter-widgets/controls",
      "model_module_version": "1.5.0",
      "model_name": "HTMLModel",
      "state": {
       "layout": "IPY_MODEL_f45abdae2a544d9fa2862ce66de829bc",
       "style": "IPY_MODEL_dbf725e60d5445de9c8147ef29a9249a",
       "value": "<h5>Message</h5>"
      }
     },
     "5bf2fa80e1494d1e9680f91de8c3b97b": {
      "model_module": "@jupyter-widgets/controls",
      "model_module_version": "1.5.0",
      "model_name": "HTMLModel",
      "state": {
       "layout": "IPY_MODEL_d9c3eddb5c024f0fa1c8c66977a2186c",
       "style": "IPY_MODEL_937dc1d750494dce9509da65b6db7c6b",
       "value": "<h5>Queue</h5>"
      }
     },
     "60646cf68b5c4ad297e0b448171db9d6": {
      "model_module": "@jupyter-widgets/controls",
      "model_module_version": "1.5.0",
      "model_name": "DescriptionStyleModel",
      "state": {
       "description_width": ""
      }
     },
     "7452578edd7043fa8ed5dfecc5057499": {
      "model_module": "@jupyter-widgets/base",
      "model_module_version": "1.2.0",
      "model_name": "LayoutModel",
      "state": {
       "width": "145px"
      }
     },
     "79adffaba7e04ee58a4ae2ba88b90cf9": {
      "model_module": "@jupyter-widgets/controls",
      "model_module_version": "1.5.0",
      "model_name": "ButtonModel",
      "state": {
       "button_style": "primary",
       "description": "Clear",
       "layout": "IPY_MODEL_79e6088a27b74e0f81cd5bb578756021",
       "style": "IPY_MODEL_ff6fecd92d4740559c2d241765bac0d6"
      }
     },
     "79e6088a27b74e0f81cd5bb578756021": {
      "model_module": "@jupyter-widgets/base",
      "model_module_version": "1.2.0",
      "model_name": "LayoutModel",
      "state": {
       "grid_area": "right",
       "padding": "0px 0px 0px 0px",
       "width": "70px"
      }
     },
     "937dc1d750494dce9509da65b6db7c6b": {
      "model_module": "@jupyter-widgets/controls",
      "model_module_version": "1.5.0",
      "model_name": "DescriptionStyleModel",
      "state": {
       "description_width": ""
      }
     },
     "9633797c704d44d4b9f9b19616aa6b47": {
      "model_module": "@jupyter-widgets/controls",
      "model_module_version": "1.5.0",
      "model_name": "DescriptionStyleModel",
      "state": {
       "description_width": ""
      }
     },
     "9b7473fecc4349378d12db2d8717fa22": {
      "model_module": "@jupyter-widgets/base",
      "model_module_version": "1.2.0",
      "model_name": "LayoutModel",
      "state": {
       "width": "95px"
      }
     },
     "9ef2c893c90f404f8e1e40e6ef3f5e36": {
      "model_module": "@jupyter-widgets/controls",
      "model_module_version": "1.5.0",
      "model_name": "HTMLModel",
      "state": {
       "layout": "IPY_MODEL_7452578edd7043fa8ed5dfecc5057499",
       "style": "IPY_MODEL_31d8cad5aaae408d8b87d0d45a50c388",
       "value": "<h5>Backend</h5>"
      }
     },
     "a270e193edf74c1d96848b4660771165": {
      "model_module": "@jupyter-widgets/base",
      "model_module_version": "1.2.0",
      "model_name": "LayoutModel",
      "state": {
       "grid_template_areas": "\n                                       \". . . . right \"\n                                        ",
       "grid_template_columns": "20% 20% 20% 20% 20%",
       "width": "100%"
      }
     },
     "acd1bd1df01b442c860c8344fbaf569a": {
      "model_module": "@jupyter-widgets/controls",
      "model_module_version": "1.5.0",
      "model_name": "HTMLModel",
      "state": {
       "layout": "IPY_MODEL_9b7473fecc4349378d12db2d8717fa22",
       "style": "IPY_MODEL_60646cf68b5c4ad297e0b448171db9d6",
       "value": "<h5>Status</h5>"
      }
     },
     "aceb15217d5e465ab225c21057cad3c6": {
      "model_module": "@jupyter-widgets/base",
      "model_module_version": "1.2.0",
      "model_name": "LayoutModel",
      "state": {
       "margin": "0px 0px 10px 0px"
      }
     },
     "b94c397305294aad8651548d4e9aa1b2": {
      "model_module": "@jupyter-widgets/controls",
      "model_module_version": "1.5.0",
      "model_name": "GridBoxModel",
      "state": {
       "children": [
        "IPY_MODEL_79adffaba7e04ee58a4ae2ba88b90cf9"
       ],
       "layout": "IPY_MODEL_a270e193edf74c1d96848b4660771165"
      }
     },
     "bb1ae223cbc74f80b2b29db9aefd1b99": {
      "model_module": "@jupyter-widgets/controls",
      "model_module_version": "1.5.0",
      "model_name": "DescriptionStyleModel",
      "state": {
       "description_width": ""
      }
     },
     "cac7b8d0e25f4a3681d5f4e4722a64a6": {
      "model_module": "@jupyter-widgets/base",
      "model_module_version": "1.2.0",
      "model_name": "LayoutModel",
      "state": {
       "margin": "0px 0px 0px 37px",
       "width": "600px"
      }
     },
     "d9c3eddb5c024f0fa1c8c66977a2186c": {
      "model_module": "@jupyter-widgets/base",
      "model_module_version": "1.2.0",
      "model_name": "LayoutModel",
      "state": {
       "width": "70px"
      }
     },
     "dbf725e60d5445de9c8147ef29a9249a": {
      "model_module": "@jupyter-widgets/controls",
      "model_module_version": "1.5.0",
      "model_name": "DescriptionStyleModel",
      "state": {
       "description_width": ""
      }
     },
     "e5382b7a7f21445ba16aab4e0cf2b01a": {
      "model_module": "@jupyter-widgets/base",
      "model_module_version": "1.2.0",
      "model_name": "LayoutModel",
      "state": {
       "width": "190px"
      }
     },
     "f45597e7937a478f96a0c5a7d762ad87": {
      "model_module": "@jupyter-widgets/controls",
      "model_module_version": "1.5.0",
      "model_name": "HTMLModel",
      "state": {
       "layout": "IPY_MODEL_e5382b7a7f21445ba16aab4e0cf2b01a",
       "style": "IPY_MODEL_bb1ae223cbc74f80b2b29db9aefd1b99",
       "value": "<h5>Job ID</h5>"
      }
     },
     "f45abdae2a544d9fa2862ce66de829bc": {
      "model_module": "@jupyter-widgets/base",
      "model_module_version": "1.2.0",
      "model_name": "LayoutModel",
      "state": {}
     },
     "ff6fecd92d4740559c2d241765bac0d6": {
      "model_module": "@jupyter-widgets/controls",
      "model_module_version": "1.5.0",
      "model_name": "ButtonStyleModel",
      "state": {}
     }
    },
    "version_major": 2,
    "version_minor": 0
   }
  }
 },
 "nbformat": 4,
 "nbformat_minor": 5
}
