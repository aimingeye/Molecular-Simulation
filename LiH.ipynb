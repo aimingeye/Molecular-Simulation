{
 "cells": [
  {
   "cell_type": "code",
   "execution_count": 1,
   "id": "b98b53d3-97e1-4bcb-9394-e2b1d1e8789b",
   "metadata": {},
   "outputs": [
    {
     "name": "stderr",
     "output_type": "stream",
     "text": [
      "<frozen importlib._bootstrap>:219: RuntimeWarning: scipy._lib.messagestream.MessageStream size changed, may indicate binary incompatibility. Expected 56 from C header, got 64 from PyObject\n"
     ]
    }
   ],
   "source": [
    "import numpy as np\n",
    "#standard Qiskit libraries\n",
    "from qiskit import QuantumCircuit, transpile, Aer, IBMQ\n",
    "from qiskit.tools.jupyter import *\n",
    "from qiskit.visualization import *\n",
    "from ibm_quantum_widgets import *\n",
    "from qiskit.providers.aer import QasmSimulator"
   ]
  },
  {
   "cell_type": "code",
   "execution_count": 2,
   "id": "5e7fe441-0d32-43e6-b73f-93c416e932d3",
   "metadata": {},
   "outputs": [],
   "source": [
    "from qiskit_nature.drivers.second_quantization import PySCFDriver\n",
    "from qiskit_nature.transformers.second_quantization.electronic import FreezeCoreTransformer\n",
    "molecule = 'Li 0.0 0.0 0.0; H 0.0 0.0 1.5474'\n",
    "driver = PySCFDriver(atom=molecule)\n",
    "qmolecule = driver.run()"
   ]
  },
  {
   "cell_type": "code",
   "execution_count": 3,
   "id": "6e64b951-2f34-4bd1-905e-f2649f33d97d",
   "metadata": {},
   "outputs": [],
   "source": [
    "fct = [FreezeCoreTransformer(freeze_core=True, remove_orbitals=[3,4])]"
   ]
  },
  {
   "cell_type": "code",
   "execution_count": 4,
   "id": "f48bf21a-9f9a-4274-b987-ede6d7aa4f0a",
   "metadata": {},
   "outputs": [],
   "source": [
    "from qiskit_nature.problems.second_quantization.electronic import ElectronicStructureProblem\n",
    "problem = ElectronicStructureProblem(driver, fct)\n",
    "second_q_ops = problem.second_q_ops()\n",
    "\n",
    "# Hamiltonian\n",
    "main_op = second_q_ops[0]\n",
    "from qiskit_nature.mappers.second_quantization import ParityMapper\n",
    "from qiskit_nature.converters.second_quantization.qubit_converter import QubitConverter\n",
    "\n",
    "converter = QubitConverter(mapper=ParityMapper(), two_qubit_reduction=True)\n",
    "\n",
    "# Mapping Fermions to Qubits\n",
    "#num_particles = (problem.molecule_data_transformed.num_alpha,\n",
    "             #problem.molecule_data_transformed.num_beta)\n",
    "num_particles = problem.num_particles\n",
    "qubit_op = converter.convert(main_op, num_particles = problem.num_particles)\n",
    "from qiskit_nature.circuit.library import HartreeFock\n",
    "\n",
    "\n",
    "num_spin_orbitals = problem.num_spin_orbitals\n",
    "init_state = HartreeFock(num_spin_orbitals, num_particles, converter)"
   ]
  },
  {
   "cell_type": "code",
   "execution_count": 5,
   "id": "bc983ce8-b6fa-45db-a18c-7467e8d01157",
   "metadata": {},
   "outputs": [
    {
     "data": {
      "image/png": "[encoded data removed]",
      "text/plain": [
       "<Figure size 146.797x264.88 with 1 Axes>"
      ]
     },
     "execution_count": 5,
     "metadata": {},
     "output_type": "execute_result"
    }
   ],
   "source": [
    "init_state.draw('mpl')"
   ]
  },
  {
   "cell_type": "code",
   "execution_count": 6,
   "id": "f6df22cd-dd8e-4f36-88e0-a4b67a26245c",
   "metadata": {},
   "outputs": [],
   "source": [
    "from qiskit.circuit.library import TwoLocal\n",
    "from qiskit_nature.circuit.library import UCCSD, PUCCD, SUCCD\n",
    "\n",
    "# Parameters for q-UCC antatze\n",
    "num_particles = problem.num_particles\n",
    "num_spin_orbitals = problem.num_spin_orbitals\n",
    "n = qubit_op.num_qubits\n",
    "qc = QuantumCircuit(qubit_op.num_qubits)\n",
    "from qiskit.circuit import Parameter, QuantumCircuit, QuantumRegister\n",
    "#the variational parameter\n",
    "p=1\n",
    "for i in range(n):\n",
    "    theta = Parameter(f\"ry_theta{p}\" )\n",
    "    qc.ry(theta, i)\n",
    "    p += 1\n",
    "qubit_label = 0\n",
    "qc.ry(theta, range(n))\n",
    "#qc.rz(theta, range(n))\n",
    "for i in range(n-1):\n",
    "    qc.cx(i, i+1)\n",
    "for i in range(n):\n",
    "    theta = Parameter(f\"ry_theta{p}\" )\n",
    "    qc.ry(theta, i)\n",
    "    p += 1\n",
    "#qc.rz(theta, range(n))\n",
    "\n",
    "# Add the initial state\n",
    "ansatz = qc\n",
    "ansatz.compose(init_state, front=True, inplace=True)"
   ]
  },
  {
   "cell_type": "code",
   "execution_count": 7,
   "id": "27f3d3c9-ba55-4d5f-909d-1341c1f78831",
   "metadata": {},
   "outputs": [
    {
     "data": {
      "image/png": "[encoded data removed]",
      "text/plain": [
       "<Figure size 507.997x264.88 with 1 Axes>"
      ]
     },
     "execution_count": 7,
     "metadata": {},
     "output_type": "execute_result"
    }
   ],
   "source": [
    "ansatz.draw('mpl')"
   ]
  },
  {
   "cell_type": "code",
   "execution_count": 8,
   "id": "aee9a2ef-37b8-4517-9d97-7c4b67e676d5",
   "metadata": {},
   "outputs": [
    {
     "name": "stdout",
     "output_type": "stream",
     "text": [
      "Exact electronic energy -1.0887060157347386\n",
      "=== GROUND STATE ENERGY ===\n",
      " \n",
      "* Electronic ground state energy (Hartree): -8.907396311316\n",
      "  - computed part:      -1.088706015735\n",
      "  - FreezeCoreTransformer extracted energy part: -7.818690295581\n",
      "~ Nuclear repulsion energy (Hartree): 1.025934879643\n",
      "> Total ground state energy (Hartree): -7.881461431673\n",
      " \n",
      "=== MEASURED OBSERVABLES ===\n",
      " \n",
      "  0:  # Particles: 2.000 S: 0.000 S^2: 0.000 M: 0.000\n",
      " \n",
      "=== DIPOLE MOMENTS ===\n",
      " \n",
      "~ Nuclear dipole moment (a.u.): [0.0  0.0  2.92416221]\n",
      " \n",
      "  0: \n",
      "  * Electronic dipole moment (a.u.): [0.0  0.0  4.76300889]\n",
      "    - computed part:      [0.0  0.0  4.76695575]\n",
      "    - FreezeCoreTransformer extracted energy part: [0.0  0.0  -0.00394686]\n",
      "  > Dipole moment (a.u.): [0.0  0.0  -1.83884668]  Total: 1.83884668\n",
      "                 (debye): [0.0  0.0  -4.67388163]  Total: 4.67388163\n",
      " \n"
     ]
    }
   ],
   "source": [
    "from qiskit_nature.algorithms.ground_state_solvers.minimum_eigensolver_factories import NumPyMinimumEigensolverFactory\n",
    "from qiskit_nature.algorithms.ground_state_solvers import GroundStateEigensolver\n",
    "import numpy as np \n",
    "\n",
    "def exact_diagonalizer(problem, converter):\n",
    "    solver = NumPyMinimumEigensolverFactory()\n",
    "    calc = GroundStateEigensolver(converter, solver)\n",
    "    result = calc.solve(problem)\n",
    "    return result\n",
    "\n",
    "result_exact = exact_diagonalizer(problem, converter)\n",
    "exact_energy = np.real(result_exact.eigenenergies[0])\n",
    "print(\"Exact electronic energy\", exact_energy)\n",
    "print(result_exact)"
   ]
  },
  {
   "cell_type": "code",
   "execution_count": 9,
   "id": "df0e216e-4fcc-4fbc-8b00-b7d234c1a2a1",
   "metadata": {},
   "outputs": [
    {
     "name": "stdout",
     "output_type": "stream",
     "text": [
      "{   'aux_operator_eigenvalues': None,\n",
      "    'cost_function_evals': 990,\n",
      "    'eigenstate': array([ 9.64056502e-04-3.72663460e-17j,  1.09754908e-04+4.85170567e-17j,\n",
      "       -6.55884297e-04+3.72023903e-17j, -9.99998390e-01-1.70836155e-16j,\n",
      "       -1.09941593e-06+4.35911106e-20j, -9.23091419e-05-6.80356651e-20j,\n",
      "        7.95384635e-07-4.35093976e-20j,  1.07719120e-03+1.88494607e-19j,\n",
      "       -2.84635924e-08+1.10118179e-21j, -7.91693145e-08-1.44292317e-21j,\n",
      "        1.94039144e-08-1.09928628e-21j,  2.94727036e-05+5.03869416e-21j,\n",
      "        7.94096034e-07-3.06964284e-20j,  9.33677910e-08+3.99640434e-20j,\n",
      "       -5.40255251e-07+3.06437476e-20j, -8.23699436e-04-1.40718015e-19j]),\n",
      "    'eigenvalue': (-1.0703580648290154+0j),\n",
      "    'optimal_parameters': {   Parameter(ry_theta1): -0.1282299086434403,\n",
      "                              Parameter(ry_theta2): 0.7893812768077227,\n",
      "                              Parameter(ry_theta5): 0.655030190295883,\n",
      "                              Parameter(ry_theta4): 0.7845744955259738,\n",
      "                              Parameter(ry_theta3): 0.7860374487812416,\n",
      "                              Parameter(ry_theta8): -1.5708570476309323,\n",
      "                              Parameter(ry_theta7): -1.572951243841207,\n",
      "                              Parameter(ry_theta6): -1.5680723484474672},\n",
      "    'optimal_point': array([-0.12822991,  0.78938128,  0.78603745,  0.7845745 ,  0.65503019,\n",
      "       -1.56807235, -1.57295124, -1.57085705]),\n",
      "    'optimal_value': -1.0703580648290154,\n",
      "    'optimizer_evals': None,\n",
      "    'optimizer_time': 15.1800217628479}\n"
     ]
    }
   ],
   "source": [
    "from qiskit import Aer\n",
    "backend = Aer.get_backend('statevector_simulator')\n",
    "from qiskit.algorithms.optimizers import COBYLA, L_BFGS_B, SPSA, SLSQP\n",
    "optimizer = COBYLA(maxiter=15000)\n",
    "from qiskit.algorithms import VQE\n",
    "from IPython.display import display, clear_output\n",
    "def callback(eval_count, parameters, mean, std):  \n",
    "    display(\"Evaluation: {}, Energy: {}, Std: {}\".format(eval_count, mean, std))\n",
    "    clear_output(wait=True)\n",
    "    counts.append(eval_count)\n",
    "    values.append(mean)\n",
    "    params.append(parameters)\n",
    "    deviation.append(std)\n",
    "\n",
    "counts = []\n",
    "values = []\n",
    "params = []\n",
    "deviation = []\n",
    "try:\n",
    "    initial_point = [0.01] * len(ansatz.ordered_parameters)\n",
    "except:\n",
    "    initial_point = [0.01] * ansatz.num_parameters\n",
    "\n",
    "algorithm = VQE(ansatz,\n",
    "                optimizer=optimizer,\n",
    "                quantum_instance=backend,\n",
    "                callback=callback,\n",
    "                initial_point=initial_point)\n",
    "\n",
    "result = algorithm.compute_minimum_eigenvalue(qubit_op)\n",
    "\n",
    "print(result)"
   ]
  },
  {
   "cell_type": "markdown",
   "id": "2ba77c5f-8398-46f7-941e-b7e5c28f7abc",
   "metadata": {},
   "source": [
    "#### Calculating Error in Results"
   ]
  },
  {
   "cell_type": "code",
   "execution_count": 10,
   "id": "21f179ae-9dcb-469e-ac60-15d585a6f7fd",
   "metadata": {},
   "outputs": [],
   "source": [
    "E_th = -1.0887060157347446\n",
    "E_vqe = -1.0703580648290154"
   ]
  },
  {
   "cell_type": "code",
   "execution_count": 11,
   "id": "6d01973d-5a48-4bc9-9f96-78bde68e6a66",
   "metadata": {},
   "outputs": [
    {
     "name": "stdout",
     "output_type": "stream",
     "text": [
      "The percentage error in our calculation is 1.6852989365863398 %\n"
     ]
    }
   ],
   "source": [
    "print(\"The percentage error in our calculation is \" + str(np.abs((E_th-E_vqe)/E_th) *100)+\" %\")"
   ]
  }
 ],
 "metadata": {
  "kernelspec": {
   "display_name": "Python 3 (ipykernel)",
   "language": "python",
   "name": "python3"
  },
  "language_info": {
   "codemirror_mode": {
    "name": "ipython",
    "version": 3
   },
   "file_extension": ".py",
   "mimetype": "text/x-python",
   "name": "python",
   "nbconvert_exporter": "python",
   "pygments_lexer": "ipython3",
   "version": "3.8.13"
  },
  "widgets": {
   "application/vnd.jupyter.widget-state+json": {
    "state": {},
    "version_major": 2,
    "version_minor": 0
   }
  }
 },
 "nbformat": 4,
 "nbformat_minor": 5
}
